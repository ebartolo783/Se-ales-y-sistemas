{
  "nbformat": 4,
  "nbformat_minor": 0,
  "metadata": {
    "colab": {
      "provenance": [],
      "authorship_tag": "ABX9TyOAMbrE/qwdIIHEVVwlb6Zf",
      "include_colab_link": true
    },
    "kernelspec": {
      "name": "python3",
      "display_name": "Python 3"
    },
    "language_info": {
      "name": "python"
    }
  },
  "cells": [
    {
      "cell_type": "markdown",
      "metadata": {
        "id": "view-in-github",
        "colab_type": "text"
      },
      "source": [
        "<a href=\"https://colab.research.google.com/github/ebartolo783/Se-ales-y-sistemas/blob/main/Ejercicio_de_series_y_transformadas_16_01_2025.ipynb\" target=\"_parent\"><img src=\"https://colab.research.google.com/assets/colab-badge.svg\" alt=\"Open In Colab\"/></a>"
      ]
    },
    {
      "cell_type": "markdown",
      "source": [
        "EJERCICIOS TEORICO - PRACTICO: SERIE Y TRANSFORMADA DE FOURIER\n",
        "\n",
        "\n",
        "\n",
        "2.1 Explique las semejanzas y diferencias entre la serie de Fourier (exponencial, trigonometrica y compacta) y la transfor\n",
        "mada de Fourier, transformada de Fourier en tiempo discreto (DTFT) y transformada discreta de Fourier (DFT). Considere las diferentes combinaciones entre: espectro continuo y\n",
        "discreto y senal en tiempo continuo y discreto. Adem ˜ as, con- ´\n",
        "sulte en que consiste el algoritmo ´ Fast Fourier Transform -\n",
        "(FFT) y su utilidad para el calculo de la transformada dis- ´\n",
        "creta de Fourier. Explique en detalle el algoritmo FFT y su\n",
        "costo computacional vs el de la transformada discreta. Ver\n",
        "cuaderno Serie y transformada de Fourier."
      ],
      "metadata": {
        "id": "5Zojmxo5_HPl"
      }
    },
    {
      "cell_type": "markdown",
      "source": [
        "Respuesta// 1. Semejanzas:\n",
        "Proposito comun: todas buscan expresar una señal periodica x(t) como funciones de seno, coseno, eponenciales o complejas.\n",
        "Periodicidad: Todas son validas para señales periodicas\n",
        "Frecuencias Armonicas: Las funciones base corresponden a frecuancias armonicas.\n",
        "Equivalencia: Matematicamente todas las formas son equivalentes, estas son posible convertirlas en transformaciones algebraicas.\n",
        "Convergencia: Las series de fourier (en cualquiera de sus formas) convergen a la señal original bajo las condiciones de DIRICHET.\n",
        "\n",
        "Diferencias:\n",
        "\n",
        "Serie Trigonometrica\n",
        "- Es mas intuitiva y facil de entender visualmente\n",
        "- Ideal para aplicaciones donde la simetria de la señal (par o impar) es importante.\n",
        "\n",
        "Serie exponencial\n",
        "- Es mas compacta y se usa frecuentemente en analisis teorico y de sistemas\n",
        "- Facilita calculos en el dominio de la frecuencia.\n",
        "\n",
        "Serie Compacta\n",
        "- Combina amplitud y fase en un solo termino lo que la hace mas compacta para entender señales fisicas.\n",
        "- Es util donde interesa la amplitud y el desfase de las frecuencias-\n",
        "\n",
        "\n",
        "\n"
      ],
      "metadata": {
        "id": "pfuMEnV0A5OS"
      }
    },
    {
      "cell_type": "markdown",
      "source": [
        "Ahora, las semejanzas y diferencias entrea las tres transformadas (TF) (DTFT)(DFT)\n",
        "\n",
        "SEMEJANZAS:\n",
        "\n",
        "Proposito:\n",
        "- Todas las transformadas convierten una señal de dominio de tiempo a dominio de la frecuencia\n",
        "\n",
        "Representacion de señales:\n",
        "- Todas descomponen la señal en una combinacion de sinusoides complejas.\n",
        "\n",
        "Frecuencia:\n",
        "- Las tres transformadas permiten permiten identificar las frecuencias presentes en la señal, aunque lo hacen de forma distinta(continua o discreta)\n",
        "\n",
        "Matematicamente relacionadas:\n",
        "- La DTFT es una extension directa de la transformada de fourier en señales discretas.\n",
        "- La DFT es una version muestrada y computacional de la DTFT.\n",
        "\n",
        "Diferencias:\n",
        "\n",
        "En el dominio de la señal:\n",
        "\n",
        "- La señal es continua en el tiempo para TF\n",
        "- La señal es discreta en el tiempo pero definida para todos los puntos para DTFT\n",
        "- La señal es discreta y finita en el tiempo (un numero limitado de muestras) para DFT\n",
        "\n",
        "En el dominio de la frecuencia:\n",
        "\n",
        "- Es continuo ( es decir la frecuencia puede tomar cualquier valor) Para TF\n",
        "- Es continuo y periodico ( con un periodo de 2*pi ) Para DTFT\n",
        "- Es discreto Para DFT\n",
        "\n",
        "Naturaleza de la señal:\n",
        "\n",
        "- Señal analoga Para TF\n",
        "- señal Digital Para DTFT\n",
        "- Señal digital y finita para DTF\n",
        "\n",
        "\n"
      ],
      "metadata": {
        "id": "pgLs-sdCGubA"
      }
    },
    {
      "cell_type": "markdown",
      "source": [
        "¿ En que consiste el algoritmo fast fourier transform (FFT)\n",
        "\n",
        "Tambien llamado transformada rapida de fourier es una herramienta eficiente para calcular la transformada discreta de fourier DTF y su inversa, haciendo posible su aplicacion en tiempo real en varias areas tales como: procesamiento de señales , analisis espectral telecomunicaciones, y comprension de datos.\n",
        "\n"
      ],
      "metadata": {
        "id": "ZJediKLlNd9-"
      }
    }
  ]
}