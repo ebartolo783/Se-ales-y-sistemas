{
  "nbformat": 4,
  "nbformat_minor": 0,
  "metadata": {
    "colab": {
      "private_outputs": true,
      "provenance": [],
      "include_colab_link": true
    },
    "kernelspec": {
      "name": "python3",
      "display_name": "Python 3"
    },
    "language_info": {
      "name": "python"
    }
  },
  "cells": [
    {
      "cell_type": "markdown",
      "metadata": {
        "id": "view-in-github",
        "colab_type": "text"
      },
      "source": [
        "<a href=\"https://colab.research.google.com/github/ebartolo783/Se-ales-y-sistemas/blob/main/Copia_de_parcial_1_se%C3%B1ales_y_sistemas_(Esteban_Bartolo_Salazar).ipynb\" target=\"_parent\"><img src=\"https://colab.research.google.com/assets/colab-badge.svg\" alt=\"Open In Colab\"/></a>"
      ]
    },
    {
      "cell_type": "markdown",
      "source": [
        "# Parcial 1: Señales y Sistemas 2024-II\n",
        "\n",
        " ## Profesor: Andrés Marino Álvarez Meza, Ph.D.\n",
        "\n",
        "\n",
        "## Departamento de Ingeniería Eléctrica, Electrónica, y Computación\n",
        "## Universidad Nacional de Colombia - sede Manizales"
      ],
      "metadata": {
        "id": "1fWMHXCqNtQw"
      }
    },
    {
      "cell_type": "markdown",
      "source": [
        "# Instrucciones\n",
        "\n",
        "-- Para recibir el crédito total, sus respuestas deben estar justificadas de manera clara, detallada y concreta, mostrando los procedimientos y razonamientos paso a paso.\n",
        "\n",
        "-- Está permitido el uso de herramientas de inteligencia artificial (IA). Si las utiliza, por favor declare explícitamente cómo fueron empleadas en la resolución de cada pregunta. Incluya los prompts (consultas) y las iteraciones realizadas con las IA durante el desarrollo del parcial.\n",
        "\n",
        "-- La entrega del parcial debe realizarse antes de las 23:59 del 5 de diciembre de 2024 al correo electrónico amalvarezme@unal.edu.co mediante un enlace de GitHub.\n",
        "\n",
        "-- Los códigos deben estar debidamente comentados en las celdas correspondientes y explicados en celdas de texto (markdown). Los códigos que no incluyan comentarios ni discusiones no serán considerados en la evaluación final."
      ],
      "metadata": {
        "id": "15xl7tLEP6YA"
      }
    },
    {
      "cell_type": "markdown",
      "source": [
        "# Pregunta 1 (valor 2.5 puntos)\n",
        "\n",
        "Cuál es la señal obtenida en tiempo discreto al utilizar un conversor análogo digital de 5 bits con frecuencia de muestreo de $5kHz$, entrada análoga de -3.3 a 3.3 [v], aplicado a la señal continua $x(t) = 0.3 \\cos(1000\\pi t-\\pi/4) +\n",
        "0.6 \\sin(2000\\pi t) + 0.1 \\cos(11000\\pi t-\\pi)$?. Realizar la simulación del proceso de digitalización incluyendo al menos 3 ciclos de la señal $x(t)$.\n",
        "\n",
        "En caso de que la digitalización no sea apropiada, diseñe e implemente un conversor adecuado para la señal estudiada. El convesor debe permitir configurar la cantidad de bits, rango de la entrada análoga y la frecuencia de muestreo, indicándole al usuario si dicha frecuencia es apropiada o no, y graficar la señal continua, discreta y digital."
      ],
      "metadata": {
        "id": "jmI0zzVMRLNx"
      }
    },
    {
      "cell_type": "code",
      "source": [
        "#lo primero que se hace es importar las librerias de uso\n",
        "import matplotlib.pyplot as plt #importamos la libreria matplotlib\n",
        "import numpy as np #importamos la libreria numpy  para trabajar con arrreglos\n",
        "from scipy.spatial.distance import cdist #importamos la funcion cdist de scipy.spatial.distance para calcula distancias\n",
        "# como comentario importante vamos a usar codigos separados para no obtener errores mas adelante"
      ],
      "metadata": {
        "id": "s5d7K41r4gV6"
      },
      "execution_count": null,
      "outputs": []
    },
    {
      "cell_type": "code",
      "source": [
        "# se definen las variables de la señal\n",
        "\n",
        "A1 = 0.3 #amplitud 1\n",
        "A2 = 0.6 #amplitud 2\n",
        "A3 = 0.1 #amplitud 3\n",
        "\n",
        "#Ahora definimos las velocidades angulares\n",
        "\n",
        "W1 = 1000*np.pi #velocidad angular 1\n",
        "W2 = 2000*np.pi #velocidad angular 2\n",
        "W3 = 11000*np.pi #velocidad angular 3\n",
        "\n",
        "K1 = -np.pi/4 #fase 1\n",
        "K2 = 0 #fase 2\n",
        "K3 = -np.pi # fase3"
      ],
      "metadata": {
        "id": "4W-zXW8n5B_0"
      },
      "execution_count": null,
      "outputs": []
    },
    {
      "cell_type": "code",
      "source": [
        "# ahora definimos las frecuencias y los periodos\n",
        "F1 = (W1/(2*np.pi)) #frecuencia 1\n",
        "F2 = (W2/(2*np.pi)) #frecuencia 2\n",
        "F3 = (W3/(2*np.pi)) #frecuencia 3\n",
        "\n",
        "T1 = 1/F1 #periodo 1\n",
        "T2 = 1/F2 #Periodo 2\n",
        "T3 = 1/F3 #Periodo 3\n",
        "\n",
        "T = (1/500) # Periodo de la señal cuasiperiodica\n",
        "\n",
        "# se imprimen las frecuencias y periodos\n",
        "print(\"Las frecuencias son: \", F1, F2, F3)\n",
        "print(\"Los periodos son: \", T1, T2, T3)"
      ],
      "metadata": {
        "id": "fIZzxqAy8Qut"
      },
      "execution_count": null,
      "outputs": []
    },
    {
      "cell_type": "code",
      "source": [
        "# definimos la frecuencia y periodo de muestreo\n",
        "Fs = 5*max(F1,F1,F3)# frecuenia de muestreo\n",
        "Ts = 1/Fs # periodo de muestreo\n",
        "print(\"La frecuencia de muestreo es: \", Fs)\n",
        "print(\"El periodo de muestreo es: \", Ts)\n"
      ],
      "metadata": {
        "id": "FGTKbBMi-Kdf"
      },
      "execution_count": null,
      "outputs": []
    },
    {
      "cell_type": "code",
      "source": [
        "#definimos el vector tiempo\n",
        "ti = 0 #empezamos en 0\n",
        "tf = 3*T #3 periodos hacia delante\n",
        "\n",
        "tv = np.arange(ti,tf,Ts) #tiempo de muestreo"
      ],
      "metadata": {
        "id": "5s4d0Zbm_rgh"
      },
      "execution_count": null,
      "outputs": []
    },
    {
      "cell_type": "code",
      "source": [
        "# se construye la señal\n",
        "x1 = A1*np.cos(W1*tv+K1)\n",
        "x2 = A2*np.sin(W2*tv+K2)\n",
        "x3 = A3*np.cos(W3*tv+K3)\n",
        "x = x1 + x2 + x3\n",
        "plt.figure(figsize=(18, 9))\n",
        "plt.plot(tv,x,'r',label='$x(t) = 0.3\\cos(1000π*t-π/4)- 0.6 \\sin(2000πt)+ 0.1\\cos(11000πt-π)$')\n",
        "plt.plot(tv,x1,'b',label='$x_1(t) = 0.3\\cos(1000πt-π/4)$')\n",
        "plt.plot(tv,x2,'g',label='$x_2(t) = 0.6\\sin(2000πt)$')\n",
        "plt.plot(tv,x3,'y',label='$x_3(t) = 0.1\\cos(11000πt-π)$')\n",
        "plt.xlabel('Tiempo (s)')\n",
        "plt.ylabel('Amplitud')\n",
        "plt.grid(True)\n",
        "plt.legend()\n",
        "plt.show()"
      ],
      "metadata": {
        "id": "tQSLC-dpACG4"
      },
      "execution_count": null,
      "outputs": []
    },
    {
      "cell_type": "code",
      "source": [
        "#Como un segundo paso creamos el cero y pendiente que es el proceso de digitalizacion de la señal segun el ejercicio 1\n",
        "#crear funcion en python\n",
        "#reutilizamos le funciòn realizada por el profesor\n",
        "def my_ceropen(x,ymin, ymax):\n",
        "  '''\n",
        "  Codigo base para simular proceso de cero y pendiente\n",
        "  Se ingresa arreglo de numpy y los valores min  y max despues de cero y pendiente\n",
        "  '''\n",
        "  xmax = max(x) # x.max()\n",
        "  xmin = min(x) # x.min()\n",
        "  m = (ymax - ymin)/(xmax - xmin)\n",
        "  c = ymin - m*xmin\n",
        "  yv = m*x + c\n",
        "  return yv"
      ],
      "metadata": {
        "id": "sWkatlLVBQbE"
      },
      "execution_count": null,
      "outputs": []
    },
    {
      "cell_type": "code",
      "source": [
        "# construimos el cero y pendiente del profesor\n",
        "ymin = -3.3\n",
        "ymax = 3.3\n",
        "xcp = my_ceropen(x, ymin, ymax)\n",
        "plt.plot(tv,xcp,'r',label='cero_pendiente')\n",
        "plt.legend()\n",
        "plt.grid()\n",
        "plt.show()"
      ],
      "metadata": {
        "id": "qJIYNSP-CL8V"
      },
      "execution_count": null,
      "outputs": []
    },
    {
      "cell_type": "code",
      "source": [
        "nbits = 5 #numero de bits del ejercicio\n",
        "num_est = 2**nbits #numero de estados de cuantificacion\n",
        "vq = np.linspace(ymin,ymax,num_est) #vector llamado vq con los niveles de cuantificacion"
      ],
      "metadata": {
        "id": "K8ZI2cKvCfMi"
      },
      "execution_count": null,
      "outputs": []
    },
    {
      "cell_type": "code",
      "source": [
        "#función cuantización punto a punto\n",
        "\n",
        "def my_cuantizador(yn, vq) : #yn punto a #cuantizar, vq vector de estados\n",
        "\n",
        "  Ne = vq.shape[0] #tamaño vector de estados\n",
        "  dn = cdist(yn.reshape(-1,1),vq.reshape(-1,1))#distancia yn a vector estados, reshape(-1,1) asegura vectores columna para poder utilizar cdist\n",
        "  ind = np.argmin(dn) #posición distancia min\n",
        "  return vq[ind]"
      ],
      "metadata": {
        "id": "EaeDC6mzCzMX"
      },
      "execution_count": null,
      "outputs": []
    },
    {
      "cell_type": "code",
      "source": [
        "\n",
        "for i in range(xcp.shape[0]):\n",
        "   if i==0: #primera muestra\n",
        "     yq = my_cuantizador(xcp[i],vq)\n",
        "   else:\n",
        "     yq = np.append(yq,my_cuantizador(xcp[i],vq)) #apilar datos cuantizando si i>0"
      ],
      "metadata": {
        "id": "8IblgZa6C6hh"
      },
      "execution_count": null,
      "outputs": []
    },
    {
      "cell_type": "code",
      "source": [
        "\n",
        "\n",
        "plt.plot(tv,xcp,c='r', label='xcp')#cs continua\n",
        "\n",
        "plt.stem(tv,xcp, label='xcp_dis')#cs discreta\n",
        "\n",
        "#estados de cuantización\n",
        "\n",
        "for v in vq:\n",
        "  plt.plot(tv,v*np.ones(len(tv)))\n",
        "\n",
        "# graficar señal Digital (discreta + cuantizada)\n",
        "\n",
        "plt.plot(tv,yq,c='y',marker='o',label='ydig', linewidth=2)\n",
        "\n",
        "plt.legend()\n",
        "plt.grid()\n",
        "plt.xlabel('t')\n",
        "plt.ylabel('Amplitud')\n",
        "plt.show()"
      ],
      "metadata": {
        "id": "4MXaR_rlDJAI"
      },
      "execution_count": null,
      "outputs": []
    },
    {
      "cell_type": "markdown",
      "source": [
        "# Pregunta 2 (valor 2.5 puntos)\n",
        "\n",
        "Se dispone de un sistema modelado como una \"caja negra\" (ver celdas de código). Su tarea es analizar y comprobar mediante simulaciones si el sistema cumple con las propiedades de linealidad e invariancia en el tiempo. En caso de que el sistema sea lineal e invariante con el tiempo, determine su respuesta al impulso y utilice esta respuesta para calcular la salida del sistema ante la siguiente señal:\n",
        "\n",
        "$x[n] = \\sin[100 \\pi n ] + \\sin[600 \\pi n]$"
      ],
      "metadata": {
        "id": "5Za-WbLpSele"
      }
    },
    {
      "cell_type": "code",
      "source": [
        "# cargar sistema\n",
        "FILEID = \"1J9rhh0wWHZSBd8XmWGt1ZpCsMDuoUFmm\"\n",
        "!wget --load-cookies /tmp/cookies.txt \"https://docs.google.com/uc?export=download&confirm=$(wget --quiet --save-cookies /tmp/cookies.txt --keep-session-cookies --no-check-certificate 'https://docs.google.com/uc?export=download&id='$FILEID -O- | sed -rn 's/.*confirm=([0-9A-Za-z_]+).*/\\1\\n/p')&id=\"$FILEID -O P1_model.zip && rm -rf /tmp/cookies.txt\n",
        "!unzip -o P1_model.zip\n",
        "!dir"
      ],
      "metadata": {
        "id": "6yJMMFK6zo5K"
      },
      "execution_count": null,
      "outputs": []
    },
    {
      "cell_type": "code",
      "source": [
        "import numpy as np\n",
        "import matplotlib.pyplot as plt\n",
        "import joblib\n",
        "from P1_model import system_\n",
        "from scipy.signal import firwin, freqz, lfilter, filtfilt\n",
        "\n",
        "#sistema pregunta 2\n",
        "my_system = system_.My_System()\n",
        "my_system.create_()\n",
        "fs = my_system.fs #frecuencia de muestreo\n",
        "t = np.arange(-0.01, 0.02, 1/fs)  # Tiempo\n",
        "signal_u = np.heaviside(t,1) # función heaviside\n",
        "y_u = my_system.predict(signal_u)\n",
        "\n",
        "\n",
        "# Visualización de las señales\n",
        "fig, axs = plt.subplots(2,1)\n",
        "axs[0].stem(t, signal_u, label='Señal de entrada')\n",
        "axs[0].set_xlabel('Tiempo (s)')\n",
        "axs[0].set_ylabel('Amplitud')\n",
        "axs[0].legend()\n",
        "axs[0].grid()\n",
        "axs[1].stem(t,y_u, label='Señal salida')\n",
        "axs[1].set_xlabel('Tiempo (s)')\n",
        "axs[1].set_ylabel('Amplitud')\n",
        "axs[1].legend()\n",
        "axs[1].grid()\n",
        "plt.tight_layout()\n",
        "plt.show()"
      ],
      "metadata": {
        "id": "nUX7Vr1fTUYW"
      },
      "execution_count": null,
      "outputs": []
    },
    {
      "cell_type": "code",
      "execution_count": null,
      "metadata": {
        "id": "DSfPWCpPNJa4"
      },
      "outputs": [],
      "source": []
    }
  ]
}