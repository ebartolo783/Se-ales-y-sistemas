{
  "nbformat": 4,
  "nbformat_minor": 0,
  "metadata": {
    "colab": {
      "provenance": [],
      "authorship_tag": "ABX9TyPuUGqLXkevcaWoW2xchP54",
      "include_colab_link": true
    },
    "kernelspec": {
      "name": "python3",
      "display_name": "Python 3"
    },
    "language_info": {
      "name": "python"
    }
  },
  "cells": [
    {
      "cell_type": "markdown",
      "metadata": {
        "id": "view-in-github",
        "colab_type": "text"
      },
      "source": [
        "<a href=\"https://colab.research.google.com/github/ebartolo783/Se-ales-y-sistemas/blob/main/Ejercicio_serie_de_fourier_1.ipynb\" target=\"_parent\"><img src=\"https://colab.research.google.com/assets/colab-badge.svg\" alt=\"Open In Colab\"/></a>"
      ]
    },
    {
      "cell_type": "markdown",
      "source": [
        "Presente una simulación relacionada con la proyección lineal de  a∈R2  sobre  b∈R2 . El código debe permitir al usuario ingresar las componentes de los dos vectores, calcular el factor de escala de la proyección y graficar los vectores de entrada y el proyectado (usar la función pyplot.arrow)."
      ],
      "metadata": {
        "id": "ki8mSTXAsF4I"
      }
    },
    {
      "cell_type": "code",
      "source": [
        "import numpy as np\n",
        "import matplotlib.pyplot as plt\n",
        "\n",
        "def proyectar(a, b):\n",
        "    \"\"\"Calcula la proyección de a sobre b.\"\"\"\n",
        "    escalar = np.dot(a, b) / np.dot(b, b)\n",
        "    proyeccion = escalar * np.array(b)\n",
        "    return proyeccion, escalar\n",
        "\n",
        "def graficar_vectores(a, b, proy):\n",
        "    \"\"\"Grafica los vectores en el plano 2D.\"\"\"\n",
        "    plt.figure(figsize=(6,6))\n",
        "    ax = plt.gca()\n",
        "    ax.set_xlim(-10, 10)\n",
        "    ax.set_ylim(-10, 10)\n",
        "    ax.axhline(0, color='gray', lw=0.5)\n",
        "    ax.axvline(0, color='gray', lw=0.5)\n",
        "\n",
        "    plt.arrow(0, 0, a[0], a[1], head_width=0.3, head_length=0.3, fc='blue', ec='blue', label='Vector a')\n",
        "    plt.arrow(0, 0, b[0], b[1], head_width=0.3, head_length=0.3, fc='green', ec='green', label='Vector b')\n",
        "    plt.arrow(0, 0, proy[0], proy[1], head_width=0.3, head_length=0.3, fc='red', ec='red', label='Proyección')\n",
        "\n",
        "    plt.legend()\n",
        "    plt.grid()\n",
        "    plt.show()\n",
        "\n",
        "# Entrada del usuario\n",
        "a_x, a_y = map(float, input(\"Ingrese las componentes de a (x y): \").split())\n",
        "b_x, b_y = map(float, input(\"Ingrese las componentes de b (x y): \").split())\n",
        "\n",
        "a = np.array([a_x, a_y])\n",
        "b = np.array([b_x, b_y])\n",
        "\n",
        "# Cálculo de la proyección\n",
        "proy, escalar = proyectar(a, b)\n",
        "print(f\"Factor de escala de la proyección: {escalar:.2f}\")\n",
        "print(f\"Vector proyectado: ({proy[0]:.2f}, {proy[1]:.2f})\")\n",
        "\n",
        "# Graficar vectores\n",
        "graficar_vectores(a, b, proy)\n"
      ],
      "metadata": {
        "id": "6J5vs6uGsOY2"
      },
      "execution_count": null,
      "outputs": []
    },
    {
      "cell_type": "code",
      "source": [],
      "metadata": {
        "id": "5x1g8vWBsbDZ"
      },
      "execution_count": null,
      "outputs": []
    }
  ]
}