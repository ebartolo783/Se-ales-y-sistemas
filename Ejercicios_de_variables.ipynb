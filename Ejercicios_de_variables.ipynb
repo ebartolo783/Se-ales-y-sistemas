{
  "nbformat": 4,
  "nbformat_minor": 0,
  "metadata": {
    "colab": {
      "provenance": [],
      "include_colab_link": true
    },
    "kernelspec": {
      "name": "python3",
      "display_name": "Python 3"
    },
    "language_info": {
      "name": "python"
    }
  },
  "cells": [
    {
      "cell_type": "markdown",
      "metadata": {
        "id": "view-in-github",
        "colab_type": "text"
      },
      "source": [
        "<a href=\"https://colab.research.google.com/github/ebartolo783/Se-ales-y-sistemas/blob/main/Ejercicios_de_variables.ipynb\" target=\"_parent\"><img src=\"https://colab.research.google.com/assets/colab-badge.svg\" alt=\"Open In Colab\"/></a>"
      ]
    },
    {
      "cell_type": "markdown",
      "source": [
        "\n",
        "#Introduction to Python Notebooks - Google Colab\n",
        "\n",
        "\n",
        "\n"
      ],
      "metadata": {
        "id": "CY3REa3O8ldU"
      }
    },
    {
      "cell_type": "markdown",
      "source": [
        "In Python, you don't have to declare the data type for variables like in other programming languages. When you assign a value to a variable, Python automatically determines its data type based on the assigned value. However, the basic data types in Python are as follows:\n",
        "\n",
        "1. Integer (int): Represents whole numbers without decimals, such as 5, -10, or 0.\n",
        "\n",
        "2. Float: Represents numbers with decimal points, such as 3.14, -2.5, or 0.0.\n",
        "\n",
        "3. String (str): Represents a sequence of characters enclosed in single quotes ('') or double quotes (\"\"). For example, \"Hello, World!\" or 'Python'.\n",
        "\n",
        "4. Boolean (bool): Represents either True or False. It is used for logical operations and conditional statements.\n",
        "\n",
        "5. List: Represents an ordered collection of items enclosed in square brackets ([]). Lists can contain elements of different data types and are mutable (modifiable).\n",
        "\n",
        "6. Tuple: Similar to lists, tuples are also ordered collections of items, but they are enclosed in parentheses (()). Tuples are immutable (cannot be modified).\n",
        "\n",
        "7. Dictionary (dict): Represents a collection of key-value pairs enclosed in curly braces ({}). Each value is associated with a unique key, allowing fast retrieval of values.\n",
        "\n",
        "8. Set: Represents an unordered collection of unique elements enclosed in curly braces ({}). Sets are useful for eliminating duplicate values and performing mathematical set operations.\n",
        "\n",
        "These are the basic data types in Python, and they provide the foundation for more complex data structures and objects."
      ],
      "metadata": {
        "id": "qePyAGJG8sZF"
      }
    },
    {
      "cell_type": "code",
      "source": [
        "a = 2  # Integer type\n",
        "b = a + 3\n",
        "\n",
        "f = 0.176  # Float type\n",
        "\n",
        "condition = True  # Boolean type\n",
        "\n",
        "s = \"Hello\"  # String type"
      ],
      "metadata": {
        "id": "rSWRG-M_9BQr"
      },
      "execution_count": null,
      "outputs": []
    },
    {
      "cell_type": "code",
      "source": [
        "type(a) #type function print the variable type"
      ],
      "metadata": {
        "colab": {
          "base_uri": "https://localhost:8080/"
        },
        "id": "2kGCqjPnAhYg",
        "outputId": "a25812da-6b8a-4f7d-8eb6-eae07fbcb210"
      },
      "execution_count": null,
      "outputs": [
        {
          "output_type": "execute_result",
          "data": {
            "text/plain": [
              "int"
            ]
          },
          "metadata": {},
          "execution_count": 2
        }
      ]
    },
    {
      "cell_type": "code",
      "source": [
        "type(b)"
      ],
      "metadata": {
        "colab": {
          "base_uri": "https://localhost:8080/"
        },
        "id": "Jcif8WDhBWJ3",
        "outputId": "1856e59b-2a55-4a3a-b285-e1710d25c495"
      },
      "execution_count": null,
      "outputs": [
        {
          "output_type": "execute_result",
          "data": {
            "text/plain": [
              "int"
            ]
          },
          "metadata": {},
          "execution_count": 3
        }
      ]
    },
    {
      "cell_type": "code",
      "source": [
        "type(f)"
      ],
      "metadata": {
        "colab": {
          "base_uri": "https://localhost:8080/"
        },
        "id": "X7UjciSnBAdL",
        "outputId": "7d0a0738-91dd-4341-8be2-88d9cda0c691"
      },
      "execution_count": null,
      "outputs": [
        {
          "output_type": "execute_result",
          "data": {
            "text/plain": [
              "float"
            ]
          },
          "metadata": {},
          "execution_count": 4
        }
      ]
    },
    {
      "cell_type": "code",
      "source": [
        "type(condition)"
      ],
      "metadata": {
        "colab": {
          "base_uri": "https://localhost:8080/"
        },
        "id": "vPQm2VaBBCni",
        "outputId": "df8c0ca3-5cbb-46c4-d834-5dcb85dc09ec"
      },
      "execution_count": null,
      "outputs": [
        {
          "output_type": "execute_result",
          "data": {
            "text/plain": [
              "bool"
            ]
          },
          "metadata": {},
          "execution_count": 5
        }
      ]
    },
    {
      "cell_type": "code",
      "source": [
        "type(s)"
      ],
      "metadata": {
        "colab": {
          "base_uri": "https://localhost:8080/"
        },
        "id": "6TTtTmCkBHNL",
        "outputId": "8984c0ba-bf4a-4e02-c558-4e49ede9b436"
      },
      "execution_count": null,
      "outputs": [
        {
          "output_type": "execute_result",
          "data": {
            "text/plain": [
              "str"
            ]
          },
          "metadata": {},
          "execution_count": 6
        }
      ]
    },
    {
      "cell_type": "markdown",
      "source": [
        "What happens if we add an int with a float?"
      ],
      "metadata": {
        "id": "nzJTHGf8Bers"
      }
    },
    {
      "cell_type": "code",
      "source": [
        "x = b + f\n",
        "x"
      ],
      "metadata": {
        "colab": {
          "base_uri": "https://localhost:8080/"
        },
        "id": "fxiyqBVlBYrZ",
        "outputId": "998077fb-5c79-4958-ce97-289fce122122"
      },
      "execution_count": null,
      "outputs": [
        {
          "output_type": "execute_result",
          "data": {
            "text/plain": [
              "5.176"
            ]
          },
          "metadata": {},
          "execution_count": 7
        }
      ]
    },
    {
      "cell_type": "code",
      "source": [
        "type(x)"
      ],
      "metadata": {
        "colab": {
          "base_uri": "https://localhost:8080/"
        },
        "id": "n0dSEoBEBbiT",
        "outputId": "f3fe0568-c45c-422e-c40c-43f3e156f08d"
      },
      "execution_count": null,
      "outputs": [
        {
          "output_type": "execute_result",
          "data": {
            "text/plain": [
              "float"
            ]
          },
          "metadata": {},
          "execution_count": 8
        }
      ]
    },
    {
      "cell_type": "markdown",
      "source": [
        "Another handy tool is the ability to convert data types.\n",
        "For instance, by converting x to an integer, we obtain only its integer part."
      ],
      "metadata": {
        "id": "qhmzXdWEBkts"
      }
    },
    {
      "cell_type": "code",
      "source": [
        "x2 = int(x) #variable casting\n",
        "x2"
      ],
      "metadata": {
        "colab": {
          "base_uri": "https://localhost:8080/"
        },
        "id": "9urmEVBeB2O7",
        "outputId": "67e3f43d-8b60-4e1c-d00b-4ed483bccb75"
      },
      "execution_count": null,
      "outputs": [
        {
          "output_type": "execute_result",
          "data": {
            "text/plain": [
              "5"
            ]
          },
          "metadata": {},
          "execution_count": 9
        }
      ]
    },
    {
      "cell_type": "code",
      "source": [
        "type(x2)"
      ],
      "metadata": {
        "colab": {
          "base_uri": "https://localhost:8080/"
        },
        "id": "5vO6QIlA2YJC",
        "outputId": "39dbfe5d-0038-488c-ee98-cccbba1f0d9c"
      },
      "execution_count": null,
      "outputs": [
        {
          "output_type": "execute_result",
          "data": {
            "text/plain": [
              "int"
            ]
          },
          "metadata": {},
          "execution_count": 10
        }
      ]
    },
    {
      "cell_type": "markdown",
      "source": [
        "For boolean variables, their representation as integers can be useful for certain applications. The correspondence is as follows:\n",
        "\n",
        "True $\\neq$ 0 (More commonly represented as 1)\n",
        "\n",
        "False = 0"
      ],
      "metadata": {
        "id": "hUTYPuqRB7JS"
      }
    },
    {
      "cell_type": "code",
      "source": [
        "condicion_int = int(condition)\n",
        "condicion_int"
      ],
      "metadata": {
        "colab": {
          "base_uri": "https://localhost:8080/"
        },
        "id": "m7aHnSweB6Yy",
        "outputId": "a0df7f4e-1bbe-4e80-ce8b-540d3ed0a00f"
      },
      "execution_count": null,
      "outputs": [
        {
          "output_type": "execute_result",
          "data": {
            "text/plain": [
              "1"
            ]
          },
          "metadata": {},
          "execution_count": 11
        }
      ]
    },
    {
      "cell_type": "code",
      "source": [
        "c = 5\n",
        "condicion_2 = bool(c)\n",
        "condicion_2"
      ],
      "metadata": {
        "colab": {
          "base_uri": "https://localhost:8080/"
        },
        "id": "7fswi5YgCP1x",
        "outputId": "d0c1ca72-bf5c-4291-c3b0-de08114dc63a"
      },
      "execution_count": null,
      "outputs": [
        {
          "output_type": "execute_result",
          "data": {
            "text/plain": [
              "True"
            ]
          },
          "metadata": {},
          "execution_count": 12
        }
      ]
    },
    {
      "cell_type": "code",
      "source": [
        "c = 0\n",
        "condicion_2 = bool(c)\n",
        "condicion_2"
      ],
      "metadata": {
        "colab": {
          "base_uri": "https://localhost:8080/"
        },
        "id": "14KqhWnGCwgP",
        "outputId": "a16df637-df2a-4a87-b16d-ef185a60359a"
      },
      "execution_count": null,
      "outputs": [
        {
          "output_type": "execute_result",
          "data": {
            "text/plain": [
              "False"
            ]
          },
          "metadata": {},
          "execution_count": 13
        }
      ]
    },
    {
      "cell_type": "markdown",
      "source": [
        "Two of the main commands used to interact with the console are: print() and input()."
      ],
      "metadata": {
        "id": "ZhNkkPAAIDDO"
      }
    },
    {
      "cell_type": "markdown",
      "source": [
        "The print() command allows us to display variables as well as the text that is provided as an argument on the screen."
      ],
      "metadata": {
        "id": "W5sOen9pJXY0"
      }
    },
    {
      "cell_type": "code",
      "source": [
        "print(\"This is the message to be printed.\\nIn this case, it has two lines.\") #\\n print a new line"
      ],
      "metadata": {
        "colab": {
          "base_uri": "https://localhost:8080/"
        },
        "id": "BU-dHeM0Jl7l",
        "outputId": "94db92aa-6c40-4905-bba6-1efa16645066"
      },
      "execution_count": null,
      "outputs": [
        {
          "output_type": "stream",
          "name": "stdout",
          "text": [
            "This is the message to be printed.\n",
            "In this case, it has two lines.\n"
          ]
        }
      ]
    },
    {
      "cell_type": "code",
      "source": [
        "print(b)"
      ],
      "metadata": {
        "colab": {
          "base_uri": "https://localhost:8080/"
        },
        "id": "vk4hdmzRJ6R-",
        "outputId": "5e4e7fb1-0922-4ebb-b8d4-2e53712eed4a"
      },
      "execution_count": null,
      "outputs": [
        {
          "output_type": "stream",
          "name": "stdout",
          "text": [
            "5\n"
          ]
        }
      ]
    },
    {
      "cell_type": "code",
      "source": [
        "print(condition)"
      ],
      "metadata": {
        "colab": {
          "base_uri": "https://localhost:8080/"
        },
        "id": "fzPS0Fh_KCig",
        "outputId": "07b503b8-13f7-471e-e7d1-b4a2c2b23b9e"
      },
      "execution_count": null,
      "outputs": [
        {
          "output_type": "stream",
          "name": "stdout",
          "text": [
            "True\n"
          ]
        }
      ]
    },
    {
      "cell_type": "markdown",
      "source": [
        "On the other hand, the input() command can also display a message on the screen, but it will be displayed before the input field where the value, which will be stored in a string variable, is entered."
      ],
      "metadata": {
        "id": "4Mrq_tb6KYEw"
      }
    },
    {
      "cell_type": "code",
      "source": [
        "y = input(\"Input a number please: \")\n",
        "y"
      ],
      "metadata": {
        "colab": {
          "base_uri": "https://localhost:8080/",
          "height": 55
        },
        "id": "BVX98Bx8LPs_",
        "outputId": "5401bce9-b328-4bfd-97f7-5a35c730284f"
      },
      "execution_count": null,
      "outputs": [
        {
          "name": "stdout",
          "output_type": "stream",
          "text": [
            "Input a number please: \n"
          ]
        },
        {
          "output_type": "execute_result",
          "data": {
            "text/plain": [
              "''"
            ],
            "application/vnd.google.colaboratory.intrinsic+json": {
              "type": "string"
            }
          },
          "metadata": {},
          "execution_count": 17
        }
      ]
    },
    {
      "cell_type": "code",
      "source": [
        "type(y) #note that a str is captured, you need to privide a casting to convert it to a number if needed"
      ],
      "metadata": {
        "colab": {
          "base_uri": "https://localhost:8080/"
        },
        "id": "9JbU9M5rN_Vt",
        "outputId": "c8f90a5a-88c4-4fb8-f0bc-c477765e74f7"
      },
      "execution_count": null,
      "outputs": [
        {
          "output_type": "execute_result",
          "data": {
            "text/plain": [
              "str"
            ]
          },
          "metadata": {},
          "execution_count": 18
        }
      ]
    },
    {
      "cell_type": "markdown",
      "source": [
        "\n",
        "Basic arithmetic operations:"
      ],
      "metadata": {
        "id": "QG5TxjW-OWqY"
      }
    },
    {
      "cell_type": "code",
      "source": [
        "a = 2 + 4.5 + 3\n",
        "b = a - 2.5 # . holds decimal operator\n",
        "b"
      ],
      "metadata": {
        "colab": {
          "base_uri": "https://localhost:8080/"
        },
        "id": "AUJtIrleRIdQ",
        "outputId": "1e0cb3b6-b569-4700-ce3d-a8ae6f9d8579"
      },
      "execution_count": null,
      "outputs": [
        {
          "output_type": "execute_result",
          "data": {
            "text/plain": [
              "7.0"
            ]
          },
          "metadata": {},
          "execution_count": 19
        }
      ]
    },
    {
      "cell_type": "code",
      "source": [
        "a = 3*8 # Multiplication maintains the data type if it is an integer\n",
        "b = a/6 # Division automatically converts it to a float even if it is exact\n",
        "a, b"
      ],
      "metadata": {
        "colab": {
          "base_uri": "https://localhost:8080/"
        },
        "id": "pzLN54zIRPMw",
        "outputId": "52a94720-257f-4e39-efb1-5e6246cfd69e"
      },
      "execution_count": null,
      "outputs": [
        {
          "output_type": "execute_result",
          "data": {
            "text/plain": [
              "(24, 4.0)"
            ]
          },
          "metadata": {},
          "execution_count": 20
        }
      ]
    },
    {
      "cell_type": "code",
      "source": [
        "a = 2**2 # ** power operator\n",
        "a"
      ],
      "metadata": {
        "colab": {
          "base_uri": "https://localhost:8080/"
        },
        "id": "hPtAUG8ASYWB",
        "outputId": "77460029-b946-4114-8744-0960f68fbf5b"
      },
      "execution_count": null,
      "outputs": [
        {
          "output_type": "execute_result",
          "data": {
            "text/plain": [
              "4"
            ]
          },
          "metadata": {},
          "execution_count": 21
        }
      ]
    },
    {
      "cell_type": "code",
      "source": [
        "b = 9**(1/2)\n",
        "b"
      ],
      "metadata": {
        "colab": {
          "base_uri": "https://localhost:8080/"
        },
        "id": "cxjxYCBVSbp0",
        "outputId": "64a7c047-7b99-40ab-f250-deb90c6e64b3"
      },
      "execution_count": null,
      "outputs": [
        {
          "output_type": "execute_result",
          "data": {
            "text/plain": [
              "3.0"
            ]
          },
          "metadata": {},
          "execution_count": 22
        }
      ]
    },
    {
      "cell_type": "markdown",
      "source": [
        "\n",
        "This is a way to calculate square roots without using any library.\n",
        "In general, for more advanced calculations, numpy and sympy are commonly used."
      ],
      "metadata": {
        "id": "Q-Zz-FXuSkuC"
      }
    },
    {
      "cell_type": "markdown",
      "source": [
        "## Exercises"
      ],
      "metadata": {
        "id": "fe0JX6B0TEjG"
      }
    },
    {
      "cell_type": "markdown",
      "source": [
        "\n",
        "1. Write a program that displays the result of the following arithmetic operation on the screen: $x(t) = \\left(\\frac{3+2}{2.5}\\right)^2$\n",
        "\n",
        "2. Write a program that asks the user for the number of hours worked and the hourly rate. Then, it should display on the screen the corresponding payment.\n",
        "\n",
        "3. Write a program that asks the user for their weight (in kg) and height (in meters), calculates the body mass index (BMI), stores it in a variable, and displays the message \"Your body mass index is imc\" on the screen, where imc is the calculated BMI rounded to two decimal places."
      ],
      "metadata": {
        "id": "96blkWptzDmu"
      }
    },
    {
      "cell_type": "markdown",
      "source": [
        "Developed by:\n",
        "\n",
        "- Brian Patino Agudelo - bpatinoa@unal.edu.co\n",
        "\n",
        "- Andrés Marino Álvarez Meza - amalvarezme@unal.edu.co\n",
        "\n",
        "- César Germán Castellanos Domínguez - cgcastellanosd@unal.edu.co"
      ],
      "metadata": {
        "id": "pwWLNV4zz5di"
      }
    },
    {
      "cell_type": "code",
      "source": [
        "a = 3+2\n",
        "print (a)\n",
        "b = 2.5\n",
        "print(b)\n",
        "c= a /b\n",
        "print(c)\n",
        "d = c**2\n",
        "print(d)"
      ],
      "metadata": {
        "id": "DYIs5bv57aMv",
        "outputId": "4ada1cf3-0e16-4c9b-f3d8-a37f071c7afd",
        "colab": {
          "base_uri": "https://localhost:8080/"
        }
      },
      "execution_count": null,
      "outputs": [
        {
          "output_type": "stream",
          "name": "stdout",
          "text": [
            "5\n",
            "2.5\n",
            "2.0\n",
            "4.0\n"
          ]
        }
      ]
    },
    {
      "cell_type": "code",
      "source": [
        "y = float(input(\"numero de horas trabajadas: \"))\n",
        "z = float(input(\"tarifa por hora: \"))\n",
        "h= y*z\n",
        "print(h)"
      ],
      "metadata": {
        "id": "FZw2FCn78CPt",
        "outputId": "4bea5ce5-a650-4a5a-b9f5-d44fbcb713d7",
        "colab": {
          "base_uri": "https://localhost:8080/"
        }
      },
      "execution_count": null,
      "outputs": [
        {
          "output_type": "stream",
          "name": "stdout",
          "text": [
            "numero de horas trabajadas5\n",
            "tarifa por hora6000\n",
            "30000.0\n"
          ]
        }
      ]
    },
    {
      "cell_type": "code",
      "source": [],
      "metadata": {
        "id": "g2TtIHhy9FwY"
      },
      "execution_count": null,
      "outputs": []
    }
  ]
}