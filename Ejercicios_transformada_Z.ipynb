{
  "nbformat": 4,
  "nbformat_minor": 0,
  "metadata": {
    "colab": {
      "provenance": [],
      "authorship_tag": "ABX9TyMJF6JGwKXds0lSqtrr7hV3",
      "include_colab_link": true
    },
    "kernelspec": {
      "name": "python3",
      "display_name": "Python 3"
    },
    "language_info": {
      "name": "python"
    }
  },
  "cells": [
    {
      "cell_type": "markdown",
      "metadata": {
        "id": "view-in-github",
        "colab_type": "text"
      },
      "source": [
        "<a href=\"https://colab.research.google.com/github/ebartolo783/Se-ales-y-sistemas/blob/main/Ejercicios_transformada_Z.ipynb\" target=\"_parent\"><img src=\"https://colab.research.google.com/assets/colab-badge.svg\" alt=\"Open In Colab\"/></a>"
      ]
    },
    {
      "cell_type": "markdown",
      "source": [
        "Ejercicios\n",
        "Descargue 10 segundos de la canción de su preferencia desde youtube, y generé un filtro pasabanda (el usuario debe poder definir las frecuencias de corte) para cada uno de los filtros descritos (el usuario también debe poder fijar los parámetros de diseño de cada filtro). Compare los resultados de los filtros estudiados en este cuaderno tipo IIR para diseño Butterworth, Chebyshev 1, Chebyshev 2, Bessel y Elíptico."
      ],
      "metadata": {
        "id": "oems-uYyG98r"
      }
    },
    {
      "cell_type": "code",
      "source": [
        "#! pip install youtube-dl\n",
        "!python3 -m pip install --force-reinstall https://github.com/yt-dlp/yt-dlp/archive/master.tar.gz"
      ],
      "metadata": {
        "id": "kdM8lKpxJrD1"
      },
      "execution_count": null,
      "outputs": []
    },
    {
      "cell_type": "code",
      "source": [
        "cancion=\"https://www.youtube.com/watch?v=doLMt10ytHY\"\n",
        "!yt-dlp --extract-audio -o \"cancion\" --audio-format mp3 {cancion}"
      ],
      "metadata": {
        "id": "KsUmdlYKL5ke"
      },
      "execution_count": null,
      "outputs": []
    },
    {
      "cell_type": "code",
      "source": [
        "!ffmpeg -i cancion.mp3 output.wav"
      ],
      "metadata": {
        "id": "RHOlQ6oYL8I8"
      },
      "execution_count": null,
      "outputs": []
    },
    {
      "cell_type": "code",
      "source": [
        "!pip install soundfile"
      ],
      "metadata": {
        "id": "MmwxXbqSL-jn"
      },
      "execution_count": null,
      "outputs": []
    },
    {
      "cell_type": "code",
      "source": [
        "import soundfile as sf # para instalar pip install soundfile\n",
        "#lee archivos wav\n",
        "nombre_out = \"output.wav\"\n",
        "x, fs = sf.read(nombre_out)\n",
        "\n",
        "# read speech signal from file\n",
        "print('Frecuencia de muestreo %.2f[Hz]\\naudio %s' % (fs,nombre_out))"
      ],
      "metadata": {
        "id": "cHrd9oBzMBqv"
      },
      "execution_count": null,
      "outputs": []
    },
    {
      "cell_type": "code",
      "source": [
        "x.shape[0]/fs"
      ],
      "metadata": {
        "id": "qsIauuT7MEY0"
      },
      "execution_count": null,
      "outputs": []
    },
    {
      "cell_type": "code",
      "source": [
        "xpro = x.copy() #copiar archivos para procesar\n",
        "ti = 40\n",
        "tf = 50\n",
        "xs = xpro[int(ti*fs):int((tf*fs)),:]"
      ],
      "metadata": {
        "id": "9zdJ6aWUMGmL"
      },
      "execution_count": null,
      "outputs": []
    },
    {
      "cell_type": "code",
      "source": [
        "#Para escuchar el trozo de audio con el que se va a trabajar:\n",
        "#No usar un trozo muy grande o el entorno se puede desconectar\n",
        "from IPython.display import Audio\n",
        "Audio([xs[:,1], xs[:,0]],rate=fs)"
      ],
      "metadata": {
        "id": "qxt55wI4MIrL"
      },
      "execution_count": null,
      "outputs": []
    },
    {
      "cell_type": "code",
      "source": [
        "x2 = x.copy()\n",
        "ti = 63\n",
        "tf = ti + 10\n",
        "xs = x2[int(ti*fs):int((tf*fs)),:]\n",
        "K= int(len(xs)/2) + 1\n",
        "\n",
        "Audio([xs[:,1], xs[:,0]],rate=fs) #segmento de audio"
      ],
      "metadata": {
        "id": "XDOWAQ-dMLJ4"
      },
      "execution_count": null,
      "outputs": []
    },
    {
      "cell_type": "code",
      "source": [
        "from scipy.signal import butter, cheby1, cheby2, bessel, ellip, lfilter, freqz, firwin\n",
        "import matplotlib.pyplot as plt\n",
        "import numpy as np"
      ],
      "metadata": {
        "id": "V7QQhevBMM85"
      },
      "execution_count": null,
      "outputs": []
    },
    {
      "cell_type": "code",
      "source": [
        "filt = 'bandpass' #tipo del filtro (pasa-baja, pasa-alta, pasabanda, rechazabanda)\n",
        "print('\\t\\tFiltro Pasa Banda Butterworth')\n",
        "N = int(input('\\nIngrese el orden del filtro que desea: '))\n",
        "print('El orden del filtro que usted eleigio es de: ', N)\n",
        "\n",
        "Wn = [] #banda pasante\n",
        "# Pedir al usuario que ingrese elementos y agregarlos a la lista\n",
        "while True:  # Loop until valid input is provided\n",
        "    ele_uno = int(input(\"\\nIngrese la frecuencia de corte inferior: \"))\n",
        "    ele_dos = int(input(\"Ingrese la frecuencia de corte superior: \"))\n",
        "    # Ensure ele_uno is less than ele_dos and within Nyquist range\n",
        "    if 0 < ele_uno < ele_dos < fs / 2:\n",
        "        Wn.append(ele_uno)\n",
        "        Wn.append(ele_dos)\n",
        "        break  # Exit loop if input is valid\n",
        "    else:\n",
        "        print(f\"Error: Las frecuencias de corte deben estar en el rango (0, {fs / 2}). \"\n",
        "              \"Además, la frecuencia de corte inferior debe ser menor que la superior.\")\n",
        "\n",
        "# Imprimir la Banda pasante\n",
        "print(\"Banda Pasante =\", Wn)\n",
        "\n",
        "b, a = butter(N, Wn=Wn, btype=filt, fs=fs)\n",
        "\n",
        "xf = lfilter(b, a, xs, axis=0)\n",
        "Audio([xf[:,1], xf[:,0]],rate=fs) #Audio con ruido filtrado"
      ],
      "metadata": {
        "id": "HwOyNfSHMPWe"
      },
      "execution_count": null,
      "outputs": []
    },
    {
      "cell_type": "code",
      "source": [
        "filt = 'bandpass' #tipo del filtro (pasa-baja, pasa-alta, pasabanda, rechazabanda)\n",
        "print('\\t\\tFiltro Pasa Banda Chebyshev1')\n",
        "N = int(input('\\nIngrese el orden del filtro que desea: '))\n",
        "print('El orden del filtro que usted eleigio es de: ', N)\n",
        "\n",
        "Wn = [] #banda pasante\n",
        "# Pedir al usuario que ingrese elementos y agregarlos a la lista\n",
        "while True:  # Loop until valid input is provided\n",
        "    ele_uno = int(input(\"\\nIngrese la frecuencia de corte inferior: \"))\n",
        "    ele_dos = int(input(\"Ingrese la frecuencia de corte superior: \"))\n",
        "    # Ensure ele_uno is less than ele_dos and within Nyquist range\n",
        "    if 0 < ele_uno < ele_dos < fs / 2:\n",
        "        Wn.append(ele_uno)\n",
        "        Wn.append(ele_dos)\n",
        "        break  # Exit loop if input is valid\n",
        "    else:\n",
        "        print(f\"Error: Las frecuencias de corte deben estar en el rango (0, {fs / 2}). \"\n",
        "              \"Además, la frecuencia de corte inferior debe ser menor que la superior.\")\n",
        "\n",
        "# Imprimir la Banda pasante\n",
        "print(\"Banda Pasante =\", Wn)\n",
        "\n",
        "\n",
        "ripple = int(input(\"\\nIngrese su valor de ripple: \"))\n",
        "print(\"ripple: \",ripple)\n",
        "\n",
        "b, a = cheby1(N, rp=ripple, Wn=Wn, btype=filt, fs=fs)\n",
        "\n",
        "xf = lfilter(b, a, xs, axis=0)\n",
        "Audio([xf[:,1], xf[:,0]],rate=fs) #Audio con ruido filtrado"
      ],
      "metadata": {
        "id": "nQ7N0HvoMTsC"
      },
      "execution_count": null,
      "outputs": []
    },
    {
      "cell_type": "code",
      "source": [
        "filt = 'bandpass' #tipo del filtro (pasa-baja, pasa-alta, pasabanda, rechazabanda)\n",
        "print('\\t\\tFiltro Pasa Banda chebyshev2')\n",
        "N = int(input('\\nIngrese el orden del filtro que desea: '))\n",
        "print('El orden del filtro que usted eleigio es de: ', N)\n",
        "\n",
        "Wn = [] #banda pasante\n",
        "# Pedir al usuario que ingrese elementos y agregarlos a la lista\n",
        "while True:  # Loop until valid input is provided\n",
        "    ele_uno = int(input(\"\\nIngrese la frecuencia de corte inferior: \"))\n",
        "    ele_dos = int(input(\"Ingrese la frecuencia de corte superior: \"))\n",
        "    # Ensure ele_uno is less than ele_dos and within Nyquist range\n",
        "    if 0 < ele_uno < ele_dos < fs / 2:\n",
        "        Wn.append(ele_uno)\n",
        "        Wn.append(ele_dos)\n",
        "        break  # Exit loop if input is valid\n",
        "    else:\n",
        "        print(f\"Error: Las frecuencias de corte deben estar en el rango (0, {fs / 2}). \"\n",
        "              \"Además, la frecuencia de corte inferior debe ser menor que la superior.\")\n",
        "\n",
        "# Imprimir la Banda pasante\n",
        "print(\"Banda Pasante =\", Wn)\n",
        "\n",
        "\n",
        "ripple = int(input(\"\\nIngrese su valor de ripple: \"))\n",
        "print(\"ripple: \",ripple)\n",
        "\n",
        "b, a = cheby2(N, rs=ripple, Wn=Wn, btype=filt, fs=fs)\n",
        "\n",
        "xf = lfilter(b, a, xs, axis=0)\n",
        "Audio([xf[:,1], xf[:,0]],rate=fs) #Audio con ruido filtrado"
      ],
      "metadata": {
        "id": "KbdEI8ETMW0Z"
      },
      "execution_count": null,
      "outputs": []
    },
    {
      "cell_type": "code",
      "source": [
        "filt = 'bandpass' #tipo del filtro (pasa-baja, pasa-alta, pasabanda, rechazabanda)\n",
        "print('\\t\\tFiltro Pasa Banda bessel')\n",
        "N = int(input('\\nIngrese el orden del filtro que desea: '))\n",
        "print('El orden del filtro que usted eleigio es de: ', N)\n",
        "\n",
        "Wn = [] #banda pasante\n",
        "# Pedir al usuario que ingrese elementos y agregarlos a la lista\n",
        "while True:  # Loop until valid input is provided\n",
        "    ele_uno = int(input(\"\\nIngrese la frecuencia de corte inferior: \"))\n",
        "    ele_dos = int(input(\"Ingrese la frecuencia de corte superior: \"))\n",
        "    # Ensure ele_uno is less than ele_dos and within Nyquist range\n",
        "    if 0 < ele_uno < ele_dos < fs / 2:\n",
        "        Wn.append(ele_uno)\n",
        "        Wn.append(ele_dos)\n",
        "        break  # Exit loop if input is valid\n",
        "    else:\n",
        "        print(f\"Error: Las frecuencias de corte deben estar en el rango (0, {fs / 2}). \"\n",
        "              \"Además, la frecuencia de corte inferior debe ser menor que la superior.\")\n",
        "# Imprimir la Banda pasante\n",
        "print(\"Banda Pasante =\", Wn)\n",
        "\n",
        "normalization = 'mag' #Ajusta la frecuencia crítica según la respuesta que se desea\n",
        "num, den = bessel(N, Wn=Wn, btype=filt, norm=normalization, fs=fs) #regresa numerador y denominador. Si se quiere obtener los polos y ceros usar scipy.signal.tf2zpk\n",
        "\n",
        "xf = lfilter(num, den, xs, axis=0)\n",
        "Audio([xf[:,1], xf[:,0]],rate=fs) #Audio con ruido filtrado"
      ],
      "metadata": {
        "id": "xG5hstTnMXqd"
      },
      "execution_count": null,
      "outputs": []
    },
    {
      "cell_type": "code",
      "source": [
        "filt = 'bandpass' #tipo del filtro (pasa-baja, pasa-alta, pasabanda, rechazabanda)\n",
        "print('\\t\\tFiltro Pasa Banda Elíptico')\n",
        "N = int(input('\\nIngrese el orden del filtro que desea: '))\n",
        "print('El orden del filtro que usted eleigio es de: ', N)\n",
        "\n",
        "Wn = [] #banda pasante\n",
        "# Pedir al usuario que ingrese elementos y agregarlos a la lista\n",
        "while True:  # Loop until valid input is provided\n",
        "    ele_uno = int(input(\"\\nIngrese la frecuencia de corte inferior: \"))\n",
        "    ele_dos = int(input(\"Ingrese la frecuencia de corte superior: \"))\n",
        "    # Ensure ele_uno is less than ele_dos and within Nyquist range\n",
        "    if 0 < ele_uno < ele_dos < fs / 2:\n",
        "        Wn.append(ele_uno)\n",
        "        Wn.append(ele_dos)\n",
        "        break  # Exit loop if input is valid\n",
        "    else:\n",
        "        print(f\"Error: Las frecuencias de corte deben estar en el rango (0, {fs / 2}). \"\n",
        "              \"Además, la frecuencia de corte inferior debe ser menor que la superior.\")\n",
        "\n",
        "# Imprimir la Banda pasante\n",
        "print(\"Banda Pasante =\", Wn)\n",
        "\n",
        "ripple_pass = int(input(\"\\nIngrese su valor de ripple pass: \"))\n",
        "ripple_stop = int(input(\"Ingrese su valor de ripple stop: \"))\n",
        "num, den = ellip(N, rp=ripple_pass, rs=ripple_stop, Wn=Wn, btype=filt, fs=fs) #regresa numerador y denominador. Si se quiere obtener los polos y ceros usar scipy.signal.tf2zpk\n",
        "\n",
        "xf = lfilter(num, den, xs, axis=0)\n",
        "Audio([xf[:,1], xf[:,0]],rate=fs) #Audio con ruido filtrado"
      ],
      "metadata": {
        "id": "5KVnaFYJMbD1"
      },
      "execution_count": null,
      "outputs": []
    },
    {
      "cell_type": "code",
      "source": [],
      "metadata": {
        "id": "CIFD_tueMeWx"
      },
      "execution_count": null,
      "outputs": []
    }
  ]
}